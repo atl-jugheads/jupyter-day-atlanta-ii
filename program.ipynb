{
 "cells": [
  {
   "cell_type": "code",
   "execution_count": 17,
   "metadata": {},
   "outputs": [],
   "source": [
    "    \n",
    "    if __name__ == '__main__':\n",
    "        %reload_ext rites.all\n",
    "    from poser import *"
   ]
  },
  {
   "cell_type": "code",
   "execution_count": 37,
   "metadata": {
    "slideshow": {
     "slide_type": "slide"
    }
   },
   "outputs": [
    {
     "data": {
      "text/markdown": [
       "# Jupyter Day Atlanta March 31, 2018\n",
       "\n",
       "## Conference Chat\n",
       "\n",
       "Use the Jupyter Day Atlanta gitter chat to share links and ask questions to the community.\n",
       "\n",
       "### https://gitter.im/jupyter-day-atlanta-ii\n",
       "\n",
       "\n",
       "## View the conference schedule and abstracts at the conference website.\n",
       "\n",
       "### https://atl-jugheads.github.io/jupyter-day-atlanta-ii/\n",
       "\n",
       "# Social Media\n",
       "\n",
       "## [@JupyterAtlanta](https://twitter.com/JupyterAtlanta) #jupyterday"
      ],
      "text/plain": [
       "<IPython.core.display.Markdown object>"
      ]
     },
     "metadata": {},
     "output_type": "display_data"
    }
   ],
   "source": [
    "# Jupyter Day Atlanta March 31, 2018\n",
    "\n",
    "## Conference Chat\n",
    "\n",
    "Use the Jupyter Day Atlanta gitter chat to share links and ask questions to the community.\n",
    "\n",
    "### https://gitter.im/jupyter-day-atlanta-ii\n",
    "\n",
    "\n",
    "## View the conference schedule and abstracts at the conference website.\n",
    "\n",
    "### https://atl-jugheads.github.io/jupyter-day-atlanta-ii/\n",
    "\n",
    "# Social Media\n",
    "\n",
    "## [@JupyterAtlanta](https://twitter.com/JupyterAtlanta) #jupyterday\n",
    "\n"
   ]
  },
  {
   "cell_type": "code",
   "execution_count": 38,
   "metadata": {},
   "outputs": [
    {
     "data": {
      "text/markdown": [
       "# WIFI\n",
       "\n",
       "![](https://user-images.githubusercontent.com/4236275/38122306-3c0b204c-33a2-11e8-822d-db247a0fbad2.png)"
      ],
      "text/plain": [
       "<IPython.core.display.Markdown object>"
      ]
     },
     "metadata": {},
     "output_type": "display_data"
    }
   ],
   "source": [
    "# WIFI\n",
    "\n",
    "![](https://user-images.githubusercontent.com/4236275/38122306-3c0b204c-33a2-11e8-822d-db247a0fbad2.png)"
   ]
  },
  {
   "cell_type": "code",
   "execution_count": 48,
   "metadata": {},
   "outputs": [
    {
     "data": {
      "text/markdown": [
       "## meetup.com/Atlanta-Jupyter-User-Group/\n",
       "\n",
       "This event is hosted by the [Atlanta Jupyter User Group](https://meetup.com/Atlanta-Jupyter-User-Group/).  \n",
       "\n",
       "[Jupyter User Group Meetup IV](https://www.meetup.com/Atlanta-Jupyter-User-Group/events/248894686/) is April 21, 2018 at the Georgia Tech Research Institute.\n",
       "\n",
       "## Please fill out our survey @ http://bit.ly/jupeday\n",
       "\n",
       "We would love to hear what you thought about today's event."
      ],
      "text/plain": [
       "<IPython.core.display.Markdown object>"
      ]
     },
     "metadata": {},
     "output_type": "display_data"
    }
   ],
   "source": [
    "## meetup.com/Atlanta-Jupyter-User-Group/\n",
    "\n",
    "This event is hosted by the [Atlanta Jupyter User Group](https://meetup.com/Atlanta-Jupyter-User-Group/).  \n",
    "\n",
    "[Jupyter User Group Meetup IV](https://www.meetup.com/Atlanta-Jupyter-User-Group/events/248894686/) is April 21, 2018 at the Georgia Tech Research Institute.\n",
    "\n",
    "## Please fill out our survey @ http://bit.ly/jupeday\n",
    "\n",
    "We would love to hear what you thought about today's event."
   ]
  },
  {
   "cell_type": "code",
   "execution_count": 49,
   "metadata": {},
   "outputs": [
    {
     "name": "stdout",
     "output_type": "stream",
     "text": [
      "[NbConvertApp] Converting notebook program.ipynb to markdown\n",
      "[NbConvertApp] Writing 964 bytes to program.md\n"
     ]
    }
   ],
   "source": [
    "    \n",
    "    if __name__ == '__main__':\n",
    "        !jupyter nbconvert --to markdown --TemplateExporter.exclude_input=True program.ipynb"
   ]
  },
  {
   "cell_type": "code",
   "execution_count": null,
   "metadata": {},
   "outputs": [],
   "source": []
  }
 ],
 "metadata": {
  "kernelspec": {
   "display_name": "p6",
   "language": "python",
   "name": "other-env"
  },
  "language_info": {
   "codemirror_mode": {
    "name": "ipython",
    "version": 3
   },
   "file_extension": ".py",
   "mimetype": "text/x-python",
   "name": "python",
   "nbconvert_exporter": "python",
   "pygments_lexer": "ipython3",
   "version": "3.6.3"
  }
 },
 "nbformat": 4,
 "nbformat_minor": 2
}
