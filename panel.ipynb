{
 "cells": [
  {
   "cell_type": "code",
   "execution_count": 1,
   "metadata": {},
   "outputs": [],
   "source": [
    "    %reload_ext rites.all"
   ]
  },
  {
   "cell_type": "code",
   "execution_count": 2,
   "metadata": {},
   "outputs": [
    {
     "data": {
      "text/markdown": [
       "# \"Readability, Reusability, and Reproducibility\" Panel\n",
       "\n",
       "## Introductions\n",
       "\n",
       "Moderated by [Charlie Bennett](http://charliebennett.org/)\n",
       "\n",
       "* [Carol Willing](http://github.com/willingc) @ Project Jupyter\n",
       "* [Paco Nathan](http://twitter.com/pacoid) @ O'Reilly Media\n",
       "* [Rob Clewley](https://www.linkedin.com/in/robert-clewley-0a231565/) @ Mailchimp\n",
       "* [Daniel Wheeler](https://github.com/wd15) @ NIST"
      ],
      "text/plain": [
       "<IPython.core.display.Markdown object>"
      ]
     },
     "metadata": {},
     "output_type": "display_data"
    }
   ],
   "source": [
    "# \"Readability, Reusability, and Reproducibility\" Panel\n",
    "\n",
    "## Introductions\n",
    "\n",
    "Moderated by [Charlie Bennett](http://charliebennett.org/)\n",
    "\n",
    "* [Carol Willing](http://github.com/willingc) @ Project Jupyter\n",
    "* [Paco Nathan](http://twitter.com/pacoid) @ O'Reilly Media\n",
    "* [Rob Clewley](https://www.linkedin.com/in/robert-clewley-0a231565/) @ Mailchimp\n",
    "* [Daniel Wheeler](https://github.com/wd15) @ NIST"
   ]
  },
  {
   "cell_type": "code",
   "execution_count": 3,
   "metadata": {},
   "outputs": [
    {
     "data": {
      "text/markdown": [
       "## [Jupyter: Tools for the Life Cycle of a Computational Idea](https://sinews.siam.org/Details-Page/jupyter-tools-for-the-life-cycle-of-a-computational-idea-5)\n",
       "### Min Ragan-Kelley, Carol Willing, and Jason Grout\n",
       " \n",
       "\n",
       "    \n",
       "> Jupyter provides useful tools for communicating scientific results. At its base level of reproducibility, a notebook is a single, shareable document containing a prose explanation of an idea, code for its implementation, and the output and figures illustrating the results. To accurately reproduce another researcher’s findings, a reader needs access to a similar computational environment, including the applicable data and software libraries. Binder provides a service for sharing a reproducible computational environment. For example, the LIGO/Virgo collaboration (see Figure 3) uses Binder to enable interaction with its Nobel Prize-winning research, observing gravitational waves with a single click.\n",
       "\n",
       "---\n",
       "\n",
       "> [Of software and Science. Reproducible science: what, why, and how](http://gael-varoquaux.info/programming/of-software-and-science-reproducible-science-what-why-and-how.html) by [Gaël Varoquaux](http://gael-varoquaux.info/about.html) provides definitions for Replicability, Reusability, and Reproducibility.  Readability refers to computational documents written for people not machines.\n",
       "\n",
       "---"
      ],
      "text/plain": [
       "<IPython.core.display.Markdown object>"
      ]
     },
     "metadata": {},
     "output_type": "display_data"
    }
   ],
   "source": [
    "## [Jupyter: Tools for the Life Cycle of a Computational Idea](https://sinews.siam.org/Details-Page/jupyter-tools-for-the-life-cycle-of-a-computational-idea-5)\n",
    "### Min Ragan-Kelley, Carol Willing, and Jason Grout\n",
    " \n",
    "\n",
    "    \n",
    "> Jupyter provides useful tools for communicating scientific results. At its base level of reproducibility, a notebook is a single, shareable document containing a prose explanation of an idea, code for its implementation, and the output and figures illustrating the results. To accurately reproduce another researcher’s findings, a reader needs access to a similar computational environment, including the applicable data and software libraries. Binder provides a service for sharing a reproducible computational environment. For example, the LIGO/Virgo collaboration (see Figure 3) uses Binder to enable interaction with its Nobel Prize-winning research, observing gravitational waves with a single click.\n",
    "\n",
    "---\n",
    "\n",
    "> [Of software and Science. Reproducible science: what, why, and how](http://gael-varoquaux.info/programming/of-software-and-science-reproducible-science-what-why-and-how.html) by [Gaël Varoquaux](http://gael-varoquaux.info/about.html) provides definitions for Replicability, Reusability, and Reproducibility.  Readability refers to computational documents written for people not machines.\n",
    "\n",
    "---"
   ]
  },
  {
   "cell_type": "code",
   "execution_count": 4,
   "metadata": {},
   "outputs": [
    {
     "data": {
      "text/markdown": [
       "1. Readability\n",
       "2. Reproducibility\n",
       "3. Reusability"
      ],
      "text/plain": [
       "<IPython.core.display.Markdown object>"
      ]
     },
     "metadata": {},
     "output_type": "display_data"
    }
   ],
   "source": [
    "1. Readability\n",
    "2. Reproducibility\n",
    "3. Reusability"
   ]
  },
  {
   "cell_type": "code",
   "execution_count": 5,
   "metadata": {},
   "outputs": [
    {
     "data": {
      "text/markdown": [
       "---\n",
       "\n",
       "## 1. Readability\n",
       "\n",
       ">> __Replicability__: being able to redo an experiment from scratch.\n",
       ">> [_Of software and Science. Reproducible science: what, why, and how_ Gaël Varoquaux](http://gael-varoquaux.info/programming/of-software-and-science-reproducible-science-what-why-and-how.html)    \n",
       "    \n",
       "###  Without a human readable document, replicability would not be possible.  \n",
       "## Discuss an experience where **readability & replicability** have improved the equity, education, or innovation within your team and collaborations."
      ],
      "text/plain": [
       "<IPython.core.display.Markdown object>"
      ]
     },
     "metadata": {},
     "output_type": "display_data"
    }
   ],
   "source": [
    "---\n",
    "\n",
    "## 1. Readability\n",
    "\n",
    ">> __Replicability__: being able to redo an experiment from scratch.\n",
    ">> [_Of software and Science. Reproducible science: what, why, and how_ Gaël Varoquaux](http://gael-varoquaux.info/programming/of-software-and-science-reproducible-science-what-why-and-how.html)    \n",
    "    \n",
    "###  Without a human readable document, replicability would not be possible.  \n",
    "## Discuss an experience where **readability & replicability** have improved the equity, education, or innovation within your team and collaborations."
   ]
  },
  {
   "cell_type": "code",
   "execution_count": 6,
   "metadata": {
    "slideshow": {
     "slide_type": "subslide"
    }
   },
   "outputs": [
    {
     "data": {
      "text/markdown": [
       "---\n",
       "\n",
       "> # 2. Reproducibility: being able to rerun an experiment as it was run, for instance by reanalysing data.\n",
       ">> #### [_Of software and Science. Reproducible science: what, why, and how_ Gaël Varoquaux](http://gael-varoquaux.info/programming/of-software-and-science-reproducible-science-what-why-and-how.html)\n",
       "\n",
       "## What are your favorite ideas for making work reproducible?\n",
       "\n",
       "---\n",
       "\n",
       "### _The Hard Road to Reproducibility_ [Lorena Barba](http://science.sciencemag.org/content/354/6308/142)\n",
       "\n",
       ">> **Today**, a new student arriving in my group finds all of our research code in **tidy repositories**, \n",
       ">> where every change is recorded automatically. **Version control** is our **essential** technology for \n",
       ">> record keeping and collaboration. Whenever we publish a paper, we create a “reproducibility package,” \n",
       ">> deposited online, which includes the data sets and all the code that is needed to recreate the analyses\n",
       ">> and figures. These are the practices that work for us as computational scientists, but the principles behind \n",
       ">> them apply regardless of discipline._"
      ],
      "text/plain": [
       "<IPython.core.display.Markdown object>"
      ]
     },
     "metadata": {},
     "output_type": "display_data"
    }
   ],
   "source": [
    "---\n",
    "\n",
    "> # 2. Reproducibility: being able to rerun an experiment as it was run, for instance by reanalysing data.\n",
    ">> #### [_Of software and Science. Reproducible science: what, why, and how_ Gaël Varoquaux](http://gael-varoquaux.info/programming/of-software-and-science-reproducible-science-what-why-and-how.html)\n",
    "\n",
    "## What are your favorite ideas for making work reproducible?\n",
    "\n",
    "---\n",
    "\n",
    "### _The Hard Road to Reproducibility_ [Lorena Barba](http://science.sciencemag.org/content/354/6308/142)\n",
    "\n",
    ">> **Today**, a new student arriving in my group finds all of our research code in **tidy repositories**, \n",
    ">> where every change is recorded automatically. **Version control** is our **essential** technology for \n",
    ">> record keeping and collaboration. Whenever we publish a paper, we create a “reproducibility package,” \n",
    ">> deposited online, which includes the data sets and all the code that is needed to recreate the analyses\n",
    ">> and figures. These are the practices that work for us as computational scientists, but the principles behind \n",
    ">> them apply regardless of discipline._"
   ]
  },
  {
   "cell_type": "code",
   "execution_count": 7,
   "metadata": {},
   "outputs": [
    {
     "data": {
      "text/markdown": [
       "---\n",
       "\n",
       "> # 3. Reusability: applying the process to a new yet similar question. \n",
       ">> #### [_Of software and Science. Reproducible science: what, why, and how_ Gaël Varoquaux](http://gael-varoquaux.info/programming/of-software-and-science-reproducible-science-what-why-and-how.html)\n",
       "    \n",
       "## How does your team use the Jupyter ecosystem to improve the reusability of computational ideas?\n",
       "    "
      ],
      "text/plain": [
       "<IPython.core.display.Markdown object>"
      ]
     },
     "metadata": {},
     "output_type": "display_data"
    }
   ],
   "source": [
    "---\n",
    "\n",
    "> # 3. Reusability: applying the process to a new yet similar question. \n",
    ">> #### [_Of software and Science. Reproducible science: what, why, and how_ Gaël Varoquaux](http://gael-varoquaux.info/programming/of-software-and-science-reproducible-science-what-why-and-how.html)\n",
    "    \n",
    "## How does your team use the Jupyter ecosystem to improve the reusability of computational ideas?\n",
    "    "
   ]
  },
  {
   "cell_type": "code",
   "execution_count": 8,
   "metadata": {},
   "outputs": [
    {
     "name": "stdout",
     "output_type": "stream",
     "text": [
      "[NbConvertApp] Converting notebook panel.ipynb to markdown\n",
      "[NbConvertApp] Writing 3771 bytes to panel.md\n"
     ]
    }
   ],
   "source": [
    "    \n",
    "    if __name__ == '__main__':\n",
    "        !jupyter nbconvert --to markdown --MarkdownExporter.exclude_input=True panel.ipynb"
   ]
  },
  {
   "cell_type": "code",
   "execution_count": null,
   "metadata": {},
   "outputs": [],
   "source": []
  }
 ],
 "metadata": {
  "celltoolbar": "Slideshow",
  "kernelspec": {
   "display_name": "p6",
   "language": "python",
   "name": "other-env"
  },
  "language_info": {
   "codemirror_mode": {
    "name": "ipython",
    "version": 3
   },
   "file_extension": ".py",
   "mimetype": "text/x-python",
   "name": "python",
   "nbconvert_exporter": "python",
   "pygments_lexer": "ipython3",
   "version": "3.6.3"
  },
  "varInspector": {
   "cols": {
    "lenName": 16,
    "lenType": 16,
    "lenVar": 40
   },
   "kernels_config": {
    "python": {
     "delete_cmd_postfix": "",
     "delete_cmd_prefix": "del ",
     "library": "var_list.py",
     "varRefreshCmd": "print(var_dic_list())"
    },
    "r": {
     "delete_cmd_postfix": ") ",
     "delete_cmd_prefix": "rm(",
     "library": "var_list.r",
     "varRefreshCmd": "cat(var_dic_list()) "
    }
   },
   "types_to_exclude": [
    "module",
    "function",
    "builtin_function_or_method",
    "instance",
    "_Feature"
   ],
   "window_display": false
  }
 },
 "nbformat": 4,
 "nbformat_minor": 2
}
