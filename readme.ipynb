{
 "cells": [
  {
   "cell_type": "code",
   "execution_count": 1,
   "metadata": {},
   "outputs": [],
   "source": [
    "\n",
    "\n",
    "if __name__ == '__main__':\n",
    "    # %load_ext XXX.mumble\n",
    "    %reload_ext rites.all\n",
    "    from ten.utils.style import style\n",
    "    import scheduling\n",
    "from poser import *\n",
    "get_ipython().ast_node_interactivity='last_expr_or_assign'"
   ]
  },
  {
   "cell_type": "code",
   "execution_count": 2,
   "metadata": {},
   "outputs": [],
   "source": [
    "    \n",
    "    ---\n",
    "    ref:\n",
    "        cfp: https://docs.google.com/forms/d/e/1FAIpQLSeUJfyYnmsDtswuFanajOpAbAl_E4Ib6LsgM1fMk6Y42ZCf2w/viewform\n",
    "        jupyter: https://jupyter.org\n",
    "        coc: conduct/code_of_conduct.md\n",
    "        gtri: https://gtri.gatech.edu/\n",
    "        oreilly: https://www.oreilly.com/\n",
    "        widgets:\n",
    "        hub:\n",
    "        convert:\n",
    "        triangle: https://www.meetup.com/PyData-Triangle/\n",
    "        triangle-pic: https://pbs.twimg.com/profile_images/780503095499452418/7YYwrvXr_400x400.jpg\n",
    "        '2016': https://jupyterday-atlanta-2016.github.io\n",
    "        jug: https://www.meetup.com/Atlanta-Jupyter-User-Group/\n",
    "        past: docs/events.md\n",
    "        pydata: https://www.meetup.com/PyData-Atlanta/\n",
    "        event: https://jupyter-day-atlanta.eventbrite.com\n",
    "        dsatl: https://www.meetup.com/Data-Science-ATL/\n",
    "    deadline: March 16, 2018"
   ]
  },
  {
   "cell_type": "code",
   "execution_count": 3,
   "metadata": {},
   "outputs": [
    {
     "data": {
      "text/markdown": [
       "# Jupyter Day Atlanta II \n",
       "\n",
       "March 31, 2018 @ [Georgia Tech Research Institute](https://gtri.gatech.edu/) in Atlanta\n",
       "\n",
       "---"
      ],
      "text/plain": [
       "<IPython.core.display.Markdown object>"
      ]
     },
     "metadata": {},
     "output_type": "display_data"
    }
   ],
   "source": [
    "# Jupyter Day Atlanta II \n",
    "\n",
    "March 31, 2018 @ [Georgia Tech Research Institute]({{ref['gtri']}}) in Atlanta\n",
    "\n",
    "---"
   ]
  },
  {
   "cell_type": "markdown",
   "metadata": {},
   "source": [
    "![](https://user-images.githubusercontent.com/4236275/35634953-fb4a3eb6-067a-11e8-81f7-8f06fcf0b052.png)"
   ]
  },
  {
   "cell_type": "code",
   "execution_count": 4,
   "metadata": {},
   "outputs": [],
   "source": [
    "\n",
    "## Interested in speaking at Jupyter Day Atlanta?\n",
    "\n",
    "\n",
    "> We are accepting talks for 2 tracks until __{{deadline}}__.\n",
    "\n",
    "[<button class=\"btn btn-lg\" type=\"button\">Submit Your Talk</button>]({{ref['cfp']}})\n",
    "\n",
    "\n"
   ]
  },
  {
   "cell_type": "code",
   "execution_count": 5,
   "metadata": {},
   "outputs": [
    {
     "data": {
      "text/markdown": [
       "## About\n",
       "\n",
       "Jupyter Day Atlanta is a single-day conference for Jupyter users in the Southeast.  The [Atlanta\n",
       "Jupyter User Group](https://www.meetup.com/Atlanta-Jupyter-User-Group/) is excited to host this event to showcase applications\n",
       "of the open source software created by Project Jupyter and community. These interactive technologies\n",
       "are reshaping how people interact with code and data in both industry and academia.  \n",
       "\n",
       "Jupyter Day Atlanta is a chance for Jupyter users of all experience levels to share and learn about \n",
       "the state-of-the-art in open source scientific computing. This event is inspired by\n",
       "[past and future events](docs/events.md) hosted by the Jupyter community, and hopes to connect\n",
       "people across the Southeast including Atlanta, Athens, Raleigh, Columbia, Charlotte, and more.\n",
       "\n",
       "\n",
       "Make plans to join us at the [GTRI Conference Center](https://gtri.gatech.edu/) in the heart of Atlanta\n",
       "on March 31. "
      ],
      "text/plain": [
       "<IPython.core.display.Markdown object>"
      ]
     },
     "metadata": {},
     "output_type": "display_data"
    }
   ],
   "source": [
    "## About\n",
    "\n",
    "Jupyter Day Atlanta is a single-day conference for Jupyter users in the Southeast.  The [Atlanta\n",
    "Jupyter User Group]({{ref['jug']}}) is excited to host this event to showcase applications\n",
    "of the open source software created by Project Jupyter and community. These interactive technologies\n",
    "are reshaping how people interact with code and data in both industry and academia.  \n",
    "\n",
    "Jupyter Day Atlanta is a chance for Jupyter users of all experience levels to share and learn about \n",
    "the state-of-the-art in open source scientific computing. This event is inspired by\n",
    "[past and future events](docs/events.md) hosted by the Jupyter community, and hopes to connect\n",
    "people across the Southeast including Atlanta, Athens, Raleigh, Columbia, Charlotte, and more.\n",
    "\n",
    "\n",
    "Make plans to join us at the [GTRI Conference Center]({{ref['gtri']}}) in the heart of Atlanta\n",
    "on March 31. "
   ]
  },
  {
   "cell_type": "code",
   "execution_count": 6,
   "metadata": {},
   "outputs": [],
   "source": [
    "\n",
    "# Important Dates\n",
    "\n",
    "* [Call for Participation]({{ref['cfp']}}) Closes: __{{deadline}}__\n",
    "* Speakers notified: __March 19, 2018__"
   ]
  },
  {
   "cell_type": "code",
   "execution_count": 7,
   "metadata": {},
   "outputs": [
    {
     "data": {
      "text/markdown": [
       "# March 31, 2018 Event Schedule\n",
       "\n",
       "## Morning\n",
       "\n",
       "##### <small>8:45 AM to 9:15 AM</small> Registration and ☕️\n",
       "* Atlanta Jupyter User Group and Project Jupyter\n",
       "\n",
       "##### <small>9:15 AM to 10:00 AM</small> Panel on Readability, Reusability, and Reproducibility\n",
       "* Carol Willing, Paco Nathan, Rob Clewley, Daniel Wheeler moderated by Charlie Bennett\n",
       "\n",
       "##### <small>10:00 AM to 10:40 AM</small> Jupyter Upstream: An Oral History of Jupyter\n",
       "* Nick Bollweg\n",
       "\n",
       "##### <small>10:40 AM to 11:20 AM</small> Reproducible Segmentation of Not-Quite-Objects\n",
       "* Shannon Quinn\n",
       "\n",
       "##### <small>11:20 AM to 12:00 PM</small> STEAM Workshops with Binder and JupyterHub\n",
       "* Carol Willing\n",
       "\n",
       "##### <small>12:00 PM to 1:00 PM</small> Moe's\n",
       "* O'Reilly Media\n",
       "\n",
       "\n",
       "\n",
       "## Afternoon\n",
       "\n",
       "##### <small>1:00 PM to 1:40 PM</small> Just how hard is it to drive a car with a camera\n",
       "* Stephen Welch\n",
       "\n",
       "##### <small>1:40 PM to 2:05 PM</small> Achieving Reproducible and Deployable Data Science Workflows\n",
       "* John Patanian\n",
       "\n",
       "##### <small>1:40 PM to 2:25 PM</small> Getting the most out of JupyterLab\n",
       "* Tony Fast\n",
       "\n",
       "##### <small>2:05 PM to 2:30 PM</small> Using Clojure in Jupyter\n",
       "* Jeffrey Cummings\n",
       "\n",
       "##### <small>2:30 PM to 2:55 PM</small> Accelerated Deep Learning with PyTorch\n",
       "* Wafa Louhichi\n",
       "\n",
       "##### <small>2:55 PM to 3:20 PM</small> The Markovian Birdsong Notebook\n",
       "* David Nicholson\n",
       "\n",
       "##### <small>3:20 PM to 3:45 PM</small> Classification and Characterization of Metal Powder in Additive Manufacturing using Deep Neural Nets\n",
       "* Anna C. Smith\n",
       "\n",
       "##### <small>3:45 PM to 4:00 PM</small> More ☕️ provided\n",
       "* Project Jupyter\n",
       "\n",
       "##### <small>4:00 PM to 4:40 PM</small> Give a Little Bit of Your Notebooks to Me\n",
       "* Peter Parente\n",
       "\n",
       "##### <small>4:40 PM to 5:20 PM</small> Human-in-the-loop with Jupyter notebooks\n",
       "* Paco Nathan\n",
       "\n",
       "##### <small>5:20 PM to 5:30 PM</small> Town Hall and Closing Remarks\n",
       "* Atlanta Jupyter User Group and O'Reilly Media\n"
      ],
      "text/plain": [
       "<IPython.core.display.Markdown object>"
      ]
     },
     "metadata": {},
     "output_type": "display_data"
    }
   ],
   "source": [
    "# March 31, 2018 Event Schedule\n",
    "\n",
    "## Morning\n",
    "\n",
    "{% for id, Series in scheduling.morning.iterrows() %}##### <small>{{Series.loc['start'].strftime(\"%-I:%M %p\")}} to {{Series.loc['end'].strftime(\"%-I:%M %p\")}}</small> {{id}}\n",
    "* {{Series.loc['']}}\n",
    "\n",
    "{% endfor %}\n",
    "\n",
    "## Afternoon\n",
    "\n",
    "{% for id, Series in scheduling.afternoon.iterrows() %}##### <small>{{Series.loc['start'].strftime(\"%-I:%M %p\")}} to {{Series.loc['end'].strftime(\"%-I:%M %p\")}}</small> {{id}}\n",
    "* {{Series.loc['']}}\n",
    "\n",
    "{% endfor %}\n"
   ]
  },
  {
   "cell_type": "code",
   "execution_count": 8,
   "metadata": {},
   "outputs": [],
   "source": [
    "    \n",
    "    import string\n",
    "    speakers = a.pandas.read_csv()('_data/Jupyter Day Atlanta II (Responses) - Form Responses 1.csv').iloc[[0,4,6,3,2,7,10,8,9,11]].fillna(False);\n",
    "#     speakers.loc[5].Title, speakers.loc[5].Abstract = speakers.loc[5].Abstract.split('\\n',1)\n",
    "    speakers.Title = speakers.Title.str.lstrip('*').str.lstrip()\n",
    "    speakers['id'] = speakers['Title'].str.replace(*'- ').apply(a.filter(a[string.punctuation.__contains__].not_())[''.join]).str.replace(*' -').str.lower()\n",
    "    speakers.loc[9,'Job Title'] = speakers.loc[9,'Job Title'] + 't'\n",
    "    speakers.loc[9,'Abstract'] = speakers.loc[9,'Abstract'].replace('a ad', 'an ad').replace('amachine', 'a machine')\n",
    "    speakers.loc[8, 'Affiliation'] = \"AT&T/Insight Global\"\n",
    "\n",
    "    speakers.loc[10, 'Abstract'] = a.Path('_data/david_abstract.txt').Path.read_text()()\n",
    "    speakers.loc[10, 'Title'] = \"\"\"A Compact Statistical Model of Birdsong Syntax: Replication Study with Jupyter\"\"\""
   ]
  },
  {
   "cell_type": "code",
   "execution_count": 9,
   "metadata": {},
   "outputs": [],
   "source": [
    "    {% set t='https://twitter.com/' %}\n",
    "    {% set g='https://github.com/' %}\n",
    "    \n",
    "    ---\n",
    "    mapping:\n",
    "        https://twitter.com/pacoid: Paco Nathan\n",
    "        \"@stephencwelch\": Stephen Welch\n",
    "        \"https://twitter.com/SpectralFilter\": Shannon Quinn\n",
    "        Carol Willing: Carol Willing\n",
    "        parente: Peter Parente\n",
    "        Wafa Louhichi: Wafa Louhichi\n",
    "        \"JeffAtAtl on Github\": Jeffrey Cummings\n",
    "        \"@JPatanian\": John Patanian\n",
    "        \"@nicholdav, nickledave.github.io\": David Nicholson\n",
    "        bollwyvl: Nick Bollweg\n",
    "\n",
    "        \n",
    "    speaker_links:\n",
    "        Paco Nathan: {{t}}pacoid\n",
    "        Stephen Welch: {{t}}stephencwelch\n",
    "        Shannon Quinn: {{t}}SpectralFilter\n",
    "        Carol Willing: {{t}}WillingCarol\n",
    "        Wafa Louhichi: https://www.linkedin.com/in/wafa-louhichi-61520a10a/\n",
    "        Jeffrey Cummings: {{g}}JeffAtAtl\n",
    "        John Patanian: {{g}}JPatanian\n",
    "        David Nicholson: {{g}}NickleDave\n",
    "        Peter Parente: {{g}}parente\n",
    "        Nick Bollweg: {{g}}bollwyvl\n",
    "            \n",
    "    org_links:\n",
    "        Project Jupyter: {{ref['jupyter']}}\n",
    "        O'Reilly Media: https://www.oreilly.com/learning\n",
    "        Wheego Technologies, Welch labs: http://www.welchlabs.com/\n",
    "        University of Georgia: http://cobweb.cs.uga.edu/~squinn/\n",
    "        Georgia Institute of Technology: https://www.gatech.edu/\n",
    "                "
   ]
  },
  {
   "cell_type": "code",
   "execution_count": 10,
   "metadata": {},
   "outputs": [],
   "source": [
    "    \n",
    "    # {% for i, _ in speakers.iterrows() %}{% set name=mapping[_['Your name or a site (e.g. twitter, github) handle.']]%}{{name}} {% if _['Job Title'] %}- {{_['Job Title']}} {% endif %} @ {{_['Affiliation']}}: {{_['Title']}}\n",
    "\n",
    "    # {% endfor %}"
   ]
  },
  {
   "cell_type": "code",
   "execution_count": 11,
   "metadata": {
    "scrolled": false
   },
   "outputs": [
    {
     "data": {
      "text/markdown": [
       "# Invited Talks\n",
       "\n",
       "\n",
       "## STEAM Workshops with Binder and JupyterHub\n",
       "\n",
       "\n",
       "> [Carol Willing](https://twitter.com/WillingCarol) - _Research Software Engineer_  @ **[Project Jupyter](https://jupyter.org)**\n",
       "\n",
       "\n",
       "Middle School and High School students can learn by doing. Jupyter Notebooks and the rich Python ecosystem with libraries on a variety of topics can engage many learners of the sciences and humanities. Interactive content, using Jupyter Widgets and visualization libraries, put the student in charge of manipulating content and extending their learning. Giving students engaging content in familiar subjects encourages them to develop and use computational skills to build upon their interests.\n",
       "\n",
       "One difficulty of teaching workshops is access to computers and the ability to install software on those systems. This talk will demonstrate how a workshop organizer or teacher can deploy JupyterHub easily for a class using the Zero to JupyterHub Guide, Kubernetes, and Cloud Services. Even if students only have access to smartphones, tablets, or shared computers, a workshop can be held using Binder which allows a notebook environment to be served at the click of a button to any modern web browser.\n",
       "\n",
       "## Human-in-the-loop with Jupyter notebooks\n",
       "\n",
       "\n",
       "> [Paco Nathan](https://twitter.com/pacoid) - _Evil Mad Scientist_  @ **[O'Reilly Media](https://www.oreilly.com/learning)**\n",
       "\n",
       "\n",
       "Imagine you have a few million documents, where sometimes the term `react` gets used to describe a JavaScript library, then sometimes it describes what people do during interviews. Even after parsing documents with the latest NLP libraries, \"disambiguation\" of overloaded terms is a hard problem.\n",
       "\n",
       "One way to disambiguate terms in documents uses *active learning* for a *human-in-the-loop* approach.  While both \"active learning\" and \"human-in-the-loop\" have multiple meanings, this usage is about semi-supervised machine learning. It's a great technique to have in your toolkit when you want to prepare data for use at scale, such as preparing data sets for deep learning.\n",
       "\n",
       "This talk will show an overview of active learning, how it's being used in industry.  While tooling can be expensive, we took an open source approach at O'Reilly Media based on Jupyter notebooks, nbformat, pandas, scikit-learn.  If all goes well, we'll include a live demo.\n",
       "\n",
       "## Give a Little Bit of Your Notebooks to Me\n",
       "\n",
       "\n",
       "> [Peter Parente](https://github.com/parente)  @ **Valassis Digital by day, Jupyter by night**\n",
       "\n",
       "\n",
       "You've written an awesome notebook. It tells a great story, looks beautiful, and runs flawlessly. How do you share your pride and joy? Come and learn about some Jupyter tools that help make your work accessible to the masses.\n",
       "\n",
       "There's so much that we need to share\n",
       "So send a smile (& notebook) and show you care\n",
       "\n",
       "## Just how hard is it to drive a car with a camera?\n",
       "\n",
       "\n",
       "> [Stephen Welch](https://twitter.com/stephencwelch) - _Senior Engineer, Machine Learning_  @ **[Wheego Technologies, Welch labs](http://www.welchlabs.com/)**\n",
       "\n",
       "\n",
       "In this talk, we'll use the Jupyter notebook to take a data-based approach to this question. Using real driving data and real algorithms in the notebook, we'll get as close as we can to the unique historical and modern approaches to this deep and compelling problem.\n",
       "\n",
       "## Reproducible Segmentation of Not-Quite-Objects in Jupyter Notebooks\n",
       "\n",
       "\n",
       "> [Shannon Quinn](https://twitter.com/SpectralFilter) - _Assistant Professor_  @ **[University of Georgia](http://cobweb.cs.uga.edu/~squinn/)**\n",
       "\n",
       "\n",
       "A fundamental concept in computer vision is the process of segmenting an object of interest out from within an image or sequence of images. This process is difficult under the best of circumstances; in our case, we are interested not in single objects but rather a collection of deformable objects. Motile cilia are microscopic, hair-like structures that protrude from cells and beat in synchrony to move particulates and irritants away and bring nutrients in. Cilia line the exterior of cells in nearly every part of the body; as such, diseases that affect cilia and their ability to beat properly can have myriad and severe consequences on the patient's health. To that end, studying the motion of cilia is important to better understand the pathologies of these diseases. In this talk, we'll discuss some of the basics of object segmentation, and how many of the basic assumptions are violated in circumstances such as identifying cilia in a video. We'll look at live demonstrations of alternative segmentation approaches that can be used on diffuse motion patterns such as those created by moving cilia, using Jupyter notebooks and ipywidgets to create a beginner-friendly walkthrough of the basics of ciliary motion analysis and segmentation methods."
      ],
      "text/plain": [
       "<IPython.core.display.Markdown object>"
      ]
     },
     "metadata": {},
     "output_type": "display_data"
    }
   ],
   "source": [
    "# Invited Talks\n",
    "\n",
    "{% for i, _ in speakers.iloc[:5].iterrows() %}\n",
    "## {{_['Title']}}\n",
    "\n",
    "{% set name=mapping[_['Your name or a site (e.g. twitter, github) handle.']]%}\n",
    "> [{{name}}]({{speaker_links[name]}}) {% if _['Job Title'] %}- _{{_['Job Title']}}_ {% endif %} @ {% if org_links[_['Affiliation']] %}**[{{_['Affiliation']}}]({{org_links[_['Affiliation']]}})**{%else%}**{{_['Affiliation']}}**{% endif %}\n",
    "\n",
    "\n",
    "{{_['Abstract'].strip()}}\n",
    "{% endfor %}"
   ]
  },
  {
   "cell_type": "code",
   "execution_count": 12,
   "metadata": {
    "scrolled": false
   },
   "outputs": [
    {
     "data": {
      "text/markdown": [
       "# Accepted Talks\n",
       "\n",
       "\n",
       "## Accelerated Deep Learning with PyTorch\n",
       "\n",
       "\n",
       "> [Wafa Louhichi](https://www.linkedin.com/in/wafa-louhichi-61520a10a/) - _Graduate Student_  @ **[Georgia Institute of Technology](https://www.gatech.edu/)**\n",
       "\n",
       "\n",
       "Numpy and Jupyter notebooks are now a de-facto standard for data science. But what if we have a bigger problem to tackle? This tutorial introduces PyTorch, a Numpy-like library for deep learning that is being developed at Facebook. Along with a CPU-based NumPy back-end, PyTorch allows you to use GPU back-end without any knowledge of CUDA or other low level frameworks and languages. With PyTorch, advancing science from your web browser is fast and easy as never before! In our short tutorial we’re going to show you how to use PyTorch for regular data analytics tasks, how it’s different from Numpy, and how to train a neural network on a toy image classification dataset like MNIST or CIFAR-10. Finally, we show you how we used PyTorch to solve a real problem right at the intersection of Business and Science, namely, training a classifier to determine smooth or rough surface finish in metal parts manufactured on a CNC machine, all within the comfort of a Jupyter Notebook.\n",
       "\n",
       "## A Compact Statistical Model of Birdsong Syntax: Replication Study with Jupyter\n",
       "\n",
       "\n",
       "> [David Nicholson](https://github.com/NickleDave) - _post-doctoral fellow_  @ **Emory University**\n",
       "\n",
       "\n",
       "Birdsong obeys a syntax, much like speech. To study this syntax, scientists label the elements of birdsong, known as syllables, producing strings of characters that can be modeled just like any other text. One common model applied to birdsong is a first-order Markov model: essentially a matrix containing the probabilities of transitioning from one character to any other in a sequence. Researchers have shown long time-scale dependencies in syntax of some bird species' songs, dependencies that first-order Markov processes cannot produce. A recent study reported that using partially-observable Markov models with adaptation (POMMA) as a generative model can produce sequences with statistics matching those of labeled song for one species, the Bengalese finch. In this demo, I use Jupyter to show how I was able to collaborate with the researchers, implement their model in Python, and reproduce the results of the study. I apply the model to two publicly-shared repositories of labeled Bengalese finch song, including one from our lab. My results confirm that the model successfully describes the syntax of many individual Bengalese finches' songs. I present these results as a case study in reproducibility, to show how Jupyter can drive research forward by allowing editors, reviewers, and readers to interact with the results presented in any scientific study.\n",
       "\n",
       "## Using Clojure in Jupyter \n",
       "\n",
       "\n",
       "> [Jeffrey Cummings](https://github.com/JeffAtAtl) - _Sr Developer and Data Engineer_  @ **AT&T/Insight Global**\n",
       "\n",
       "\n",
       "This will be a live demo of how I added Clojure as a kernel (using existing plugin, clojupyter) and use cases on what it can be used for\n",
       "\n",
       "## Achieving Reproducible and Deployable Data Science Workflows\n",
       "\n",
       "\n",
       "> [John Patanian](https://github.com/JPatanian) - _Principal Data Scientist_  @ **General Electric**\n",
       "\n",
       "\n",
       "Data science projects, especially those intended for production deployments, are often segmented into an ad-hoc discovery phase and production phase more akin to traditional software development.  \n",
       "\n",
       "Within a group of data scientists, for collaboration purposes there are many benefits to using a standardized project structure, such as ease of review and the ability to automate and standardize model deployment. \n",
       "\n",
       "This presentation will demonstrate the use of Jupyter notebooks as part of a templatized, reproducible, and deployable workflow. Participants will learn to use the Cookiecutter templating framework, how to templatize notebooks and deployment artifacts through demonstration of a machine learning model development pipeline involving notebooks, GitHub and Docker.\n",
       "\n",
       "## Journey Upstream: An Oral History of Jupyter\n",
       "\n",
       "\n",
       "> [Nick Bollweg](https://github.com/bollwyvl) - _Software Developer_  @ **[Project Jupyter](https://jupyter.org)**\n",
       "\n",
       "\n",
       "Two centuries ago, Lewis and Clark set out from St. Louis with $2,500 and 33 volunteers to map an uncharted continent. Along the way, they received aid, trade, and shelter from the folk who called this wilderness home. The Corps of Discovery returned with notebooks full of geographic, scientific, and cultural data. The journey to Jupyter started with 259 lines of Python in 2001... and is hardly over yet! In this talk, we'll map the code and community that supports IPython, the Notebook, and the upcoming JupyterLab, and look at some of the discoveries along the way."
      ],
      "text/plain": [
       "<IPython.core.display.Markdown object>"
      ]
     },
     "metadata": {},
     "output_type": "display_data"
    }
   ],
   "source": [
    "# Accepted Talks\n",
    "\n",
    "{% for i, _ in speakers.iloc[5:].iterrows() %}\n",
    "## {{_['Title']}}\n",
    "\n",
    "{% set name=mapping[_['Your name or a site (e.g. twitter, github) handle.']]%}\n",
    "> [{{name}}]({{speaker_links[name]}}) {% if _['Job Title'] %}- _{{_['Job Title']}}_ {% endif %} @ {% if org_links[_['Affiliation']] %}**[{{_['Affiliation']}}]({{org_links[_['Affiliation']]}})**{%else%}**{{_['Affiliation']}}**{% endif %}\n",
    "\n",
    "\n",
    "{{_['Abstract'].strip()}}\n",
    "{% endfor %}"
   ]
  },
  {
   "cell_type": "code",
   "execution_count": 13,
   "metadata": {},
   "outputs": [],
   "source": [
    "\n",
    "%%capture\n",
    "%%file _includes/speakers.md\n",
    "<hr>\n",
    "### Speakers\n",
    "\n",
    "{% for i, _ in speakers.iterrows() -%}{% set name=mapping[_['Your name or a site (e.g. twitter, github) handle.']]%}[{{name}}](#{{_.id}})<br>\n",
    "{% endfor %}"
   ]
  },
  {
   "cell_type": "code",
   "execution_count": 14,
   "metadata": {},
   "outputs": [
    {
     "data": {
      "text/markdown": [
       "# [Code of Conduct][coc]\n",
       "\n",
       "All participants, including speakers, must follow our [__Atlanta Jupyter Day Code of Conduct__][coc], the core of which is\n",
       "this: __Atlanta Jupyter Day__ should be a safe and productive environment for everyone.\n",
       "\n",
       "[coc]: conduct/code_of_conduct.md"
      ],
      "text/plain": [
       "<IPython.core.display.Markdown object>"
      ]
     },
     "metadata": {},
     "output_type": "display_data"
    }
   ],
   "source": [
    "# [Code of Conduct][coc]\n",
    "\n",
    "All participants, including speakers, must follow our [__Atlanta Jupyter Day Code of Conduct__][coc], the core of which is\n",
    "this: __Atlanta Jupyter Day__ should be a safe and productive environment for everyone.\n",
    "\n",
    "[coc]: {{ref['coc']}}"
   ]
  },
  {
   "cell_type": "code",
   "execution_count": 15,
   "metadata": {},
   "outputs": [
    {
     "data": {
      "text/markdown": [
       "# Sponsors\n",
       "\n",
       "[![](http://www.southeastlinuxfest.org/wp-content/uploads/2014/06/ORM_logo_box1_cmyk.jpg)](https://www.oreilly.com/)\n",
       "[![](https://raw.githubusercontent.com/jupyter/design/master/logos/Rectangle%20Logo/rectanglelogo-greytext-orangebody-greymoons/rectanglelogo-greytext-orangebody-greymoons.png)](https://jupyter.org)\n",
       "[![](https://upload.wikimedia.org/wikipedia/en/1/1e/GTRI_Logo_2011.png)](https://gtri.gatech.edu/)"
      ],
      "text/plain": [
       "<IPython.core.display.Markdown object>"
      ]
     },
     "metadata": {},
     "output_type": "display_data"
    }
   ],
   "source": [
    "# Sponsors\n",
    "\n",
    "[![](http://www.southeastlinuxfest.org/wp-content/uploads/2014/06/ORM_logo_box1_cmyk.jpg)]({{ref['oreilly']}})\n",
    "[![](https://raw.githubusercontent.com/jupyter/design/master/logos/Rectangle%20Logo/rectanglelogo-greytext-orangebody-greymoons/rectanglelogo-greytext-orangebody-greymoons.png)]({{ref['jupyter']}})\n",
    "[![](https://upload.wikimedia.org/wikipedia/en/1/1e/GTRI_Logo_2011.png)]({{ref['gtri']}})"
   ]
  },
  {
   "cell_type": "code",
   "execution_count": 16,
   "metadata": {},
   "outputs": [
    {
     "data": {
      "text/markdown": [
       "# Meetup Partners\n",
       "\n",
       "The Atlanta Jupyter Group is an extension of [PyData Atlanta](https://www.meetup.com/PyData-Atlanta/) and the greater technology community \n",
       "in Atlanta.  We are excited to partner with these meetups.\n",
       "\n",
       "[![](https://secure.meetupstatic.com/photos/event/2/7/2/8/global_452170024.jpeg)](https://www.meetup.com/PyData-Atlanta/)\n",
       "[![](https://i.vimeocdn.com/portrait/5895081_600x600.webp)](https://www.meetup.com/Data-Science-ATL/)\n",
       "## [<img style=\"display:inline\" src=\"https://pbs.twimg.com/profile_images/780503095499452418/7YYwrvXr_400x400.jpg\"/> PyData Triangle](https://www.meetup.com/PyData-Triangle/ \"PyData Triangle\")"
      ],
      "text/plain": [
       "<IPython.core.display.Markdown object>"
      ]
     },
     "metadata": {},
     "output_type": "display_data"
    }
   ],
   "source": [
    "# Meetup Partners\n",
    "\n",
    "The Atlanta Jupyter Group is an extension of [PyData Atlanta]({{ref['pydata']}}) and the greater technology community \n",
    "in Atlanta.  We are excited to partner with these meetups.\n",
    "\n",
    "[![](https://secure.meetupstatic.com/photos/event/2/7/2/8/global_452170024.jpeg)]({{ref['pydata']}})\n",
    "[![](https://i.vimeocdn.com/portrait/5895081_600x600.webp)]({{ref['dsatl']}})\n",
    "## [<img style=\"display:inline\" src=\"{{ref['triangle-pic']}}\"/> PyData Triangle]({{ref['triangle']}} \"PyData Triangle\")"
   ]
  },
  {
   "cell_type": "code",
   "execution_count": 17,
   "metadata": {},
   "outputs": [
    {
     "data": {
      "text/markdown": [
       "<style>\n",
       "a:link {\n",
       "    color: #F37626;\n",
       "    font-weight: normal !important;\n",
       "}\n",
       "button {\n",
       "    color: white;\n",
       "    background-color: #F37626;\n",
       "}\n",
       "button.btn-sm {\n",
       "    font-size: 1em;\n",
       "    padding: .25em;\n",
       "    border-radius: .1em;\n",
       "    width: 50%;\n",
       "    border: 0;\n",
       "}\n",
       "\n",
       "button.btn-lg {\n",
       "    font-size: 2em;\n",
       "    padding: .5em;\n",
       "    border-radius: .1em;\n",
       "    width: 100%;\n",
       "    border: 0;\n",
       "}\n",
       "\n",
       "a:hover {\n",
       "    font-weight: normal !important;\n",
       "}\n",
       "</style>"
      ],
      "text/plain": [
       "<IPython.core.display.Markdown object>"
      ]
     },
     "metadata": {},
     "output_type": "display_data"
    }
   ],
   "source": [
    "<style>\n",
    "a:link {\n",
    "    color: #F37626;\n",
    "    font-weight: normal !important;\n",
    "}\n",
    "button {\n",
    "    color: white;\n",
    "    background-color: #F37626;\n",
    "}\n",
    "button.btn-sm {\n",
    "    font-size: 1em;\n",
    "    padding: .25em;\n",
    "    border-radius: .1em;\n",
    "    width: 50%;\n",
    "    border: 0;\n",
    "}\n",
    "\n",
    "button.btn-lg {\n",
    "    font-size: 2em;\n",
    "    padding: .5em;\n",
    "    border-radius: .1em;\n",
    "    width: 100%;\n",
    "    border: 0;\n",
    "}\n",
    "\n",
    "a:hover {\n",
    "    font-weight: normal !important;\n",
    "}\n",
    "</style>"
   ]
  },
  {
   "cell_type": "code",
   "execution_count": 18,
   "metadata": {},
   "outputs": [],
   "source": [
    "    \n",
    "    with __import__(\"IPython\").utils.capture.capture_output():\n",
    "        !jupyter nbconvert --to markdown --TemplateExporter.exclude_input=True readme.ipynb\n",
    "        !echo \"---\\nlayout: default\\n---\\n\" > ../minimal-master/index.md\n",
    "        !jupyter nbconvert --to markdown --TemplateExporter.exclude_input=True --stdout readme.ipynb >> ../minimal-master/index.md\n",
    "        !cp _config.yml ../minimal-master/\n",
    "        !cp _includes/* ../minimal-master/_includes/\n",
    "        !cp _layouts/* ../minimal-master/_layouts/"
   ]
  },
  {
   "cell_type": "code",
   "execution_count": null,
   "metadata": {},
   "outputs": [],
   "source": []
  }
 ],
 "metadata": {
  "kernelspec": {
   "display_name": "p6",
   "language": "python",
   "name": "other-env"
  },
  "language_info": {
   "codemirror_mode": {
    "name": "ipython",
    "version": 3
   },
   "file_extension": ".py",
   "mimetype": "text/x-python",
   "name": "python",
   "nbconvert_exporter": "python",
   "pygments_lexer": "ipython3",
   "version": "3.6.3"
  },
  "toc": {
   "colors": {
    "hover_highlight": "#DAA520",
    "running_highlight": "#FF0000",
    "selected_highlight": "#FFD700"
   },
   "moveMenuLeft": true,
   "nav_menu": {
    "height": "12px",
    "width": "252px"
   },
   "navigate_menu": true,
   "number_sections": true,
   "sideBar": true,
   "threshold": 4,
   "toc_cell": false,
   "toc_section_display": "block",
   "toc_window_display": false,
   "widenNotebook": false
  },
  "varInspector": {
   "cols": {
    "lenName": 16,
    "lenType": 16,
    "lenVar": 40
   },
   "kernels_config": {
    "python": {
     "delete_cmd_postfix": "",
     "delete_cmd_prefix": "del ",
     "library": "var_list.py",
     "varRefreshCmd": "print(var_dic_list())"
    },
    "r": {
     "delete_cmd_postfix": ") ",
     "delete_cmd_prefix": "rm(",
     "library": "var_list.r",
     "varRefreshCmd": "cat(var_dic_list()) "
    }
   },
   "types_to_exclude": [
    "module",
    "function",
    "builtin_function_or_method",
    "instance",
    "_Feature"
   ],
   "window_display": false
  }
 },
 "nbformat": 4,
 "nbformat_minor": 2
}
