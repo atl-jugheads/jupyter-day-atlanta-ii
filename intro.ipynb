{
 "cells": [
  {
   "cell_type": "code",
   "execution_count": 1,
   "metadata": {},
   "outputs": [],
   "source": [
    "    \n",
    "    if __name__ == '__main__':\n",
    "        %reload_ext rites.all\n",
    "    from poser import *"
   ]
  },
  {
   "cell_type": "code",
   "execution_count": 2,
   "metadata": {
    "slideshow": {
     "slide_type": "slide"
    }
   },
   "outputs": [
    {
     "data": {
      "text/markdown": [
       "![](https://img.evbuc.com/https%3A%2F%2Fcdn.evbuc.com%2Fimages%2F40476995%2F43581026560%2F1%2Foriginal.jpg?w=800&rect=0%2C0%2C1000%2C500&s=3a331bf9b79b4daa4bea65c0e959b01b)\n",
       "\n",
       "\n",
       "---\n",
       "# Social Media\n",
       "\n",
       "---\n",
       "\n",
       "## #jupyterday\n",
       "\n",
       "## Conference Chat\n",
       "\n",
       "Use the Jupyter Day Atlanta gitter chat to share links and ask questions to the community.\n",
       "\n",
       "[![](https://badges.gitter.im/jupyter-day-atlanta-ii.png)](https://gitter.im/jupyter-day-atlanta-ii)\n",
       "\n",
       "---\n",
       "\n",
       "### https://gitter.im/jupyter-day-atlanta-ii"
      ],
      "text/plain": [
       "<IPython.core.display.Markdown object>"
      ]
     },
     "metadata": {},
     "output_type": "display_data"
    }
   ],
   "source": [
    "![](https://img.evbuc.com/https%3A%2F%2Fcdn.evbuc.com%2Fimages%2F40476995%2F43581026560%2F1%2Foriginal.jpg?w=800&rect=0%2C0%2C1000%2C500&s=3a331bf9b79b4daa4bea65c0e959b01b)\n",
    "\n",
    "\n",
    "---\n",
    "# Social Media\n",
    "\n",
    "---\n",
    "\n",
    "## #jupyterday\n",
    "\n",
    "## Conference Chat\n",
    "\n",
    "Use the Jupyter Day Atlanta gitter chat to share links and ask questions to the community.\n",
    "\n",
    "[![](https://badges.gitter.im/jupyter-day-atlanta-ii.png)](https://gitter.im/jupyter-day-atlanta-ii)\n",
    "\n",
    "---\n",
    "\n",
    "### https://gitter.im/jupyter-day-atlanta-ii\n",
    "\n"
   ]
  },
  {
   "cell_type": "code",
   "execution_count": 3,
   "metadata": {},
   "outputs": [
    {
     "data": {
      "text/markdown": [
       "    https://www.meetup.com/Atlanta-Jupyter-User-Group/"
      ],
      "text/plain": [
       "<IPython.core.display.Markdown object>"
      ]
     },
     "metadata": {},
     "output_type": "display_data"
    },
    {
     "data": {
      "text/html": [
       "\n",
       "        <iframe\n",
       "            width=\"800\"\n",
       "            height=\"600\"\n",
       "            src=\"https://www.meetup.com/Atlanta-Jupyter-User-Group/\"\n",
       "            frameborder=\"0\"\n",
       "            allowfullscreen\n",
       "        ></iframe>\n",
       "        "
      ],
      "text/plain": [
       "<IPython.lib.display.IFrame at 0x10bb6b6d8>"
      ]
     },
     "metadata": {},
     "output_type": "display_data"
    }
   ],
   "source": [
    "    https://www.meetup.com/Atlanta-Jupyter-User-Group/"
   ]
  },
  {
   "cell_type": "code",
   "execution_count": 4,
   "metadata": {},
   "outputs": [
    {
     "data": {
      "text/markdown": [
       "    https://www.meetup.com/Atlanta-Jupyter-User-Group/events/248894686/"
      ],
      "text/plain": [
       "<IPython.core.display.Markdown object>"
      ]
     },
     "metadata": {},
     "output_type": "display_data"
    },
    {
     "data": {
      "text/html": [
       "\n",
       "        <iframe\n",
       "            width=\"800\"\n",
       "            height=\"600\"\n",
       "            src=\"https://www.meetup.com/Atlanta-Jupyter-User-Group/events/248894686/\"\n",
       "            frameborder=\"0\"\n",
       "            allowfullscreen\n",
       "        ></iframe>\n",
       "        "
      ],
      "text/plain": [
       "<IPython.lib.display.IFrame at 0x10bb6b940>"
      ]
     },
     "metadata": {},
     "output_type": "display_data"
    }
   ],
   "source": [
    "    https://www.meetup.com/Atlanta-Jupyter-User-Group/events/248894686/"
   ]
  },
  {
   "cell_type": "code",
   "execution_count": 5,
   "metadata": {},
   "outputs": [
    {
     "data": {
      "text/markdown": [
       "# Medium Competition \n",
       "\n",
       "We have a great program for today. We would love to hear about your day Jupyter Day.  \n",
       "\n",
       "\n",
       "1. Write a blog post on medium.\n",
       "2. Tag the post __JupyterDay__ .\n",
       "3. [@ProjectJupyter](https://medium.com/@ProjectJupyter) will choose their favorite to feature as a guest post."
      ],
      "text/plain": [
       "<IPython.core.display.Markdown object>"
      ]
     },
     "metadata": {},
     "output_type": "display_data"
    }
   ],
   "source": [
    "# Medium Competition \n",
    "\n",
    "We have a great program for today. We would love to hear about your day Jupyter Day.  \n",
    "\n",
    "\n",
    "1. Write a blog post on medium.\n",
    "2. Tag the post __JupyterDay__ .\n",
    "3. [@ProjectJupyter](https://medium.com/@ProjectJupyter) will choose their favorite to feature as a guest post.\n"
   ]
  },
  {
   "cell_type": "code",
   "execution_count": 13,
   "metadata": {},
   "outputs": [
    {
     "data": {
      "text/markdown": [
       "# Please fill out a paper survey before you leave."
      ],
      "text/plain": [
       "<IPython.core.display.Markdown object>"
      ]
     },
     "metadata": {},
     "output_type": "display_data"
    }
   ],
   "source": [
    "# Please fill out a paper survey before you leave."
   ]
  },
  {
   "cell_type": "code",
   "execution_count": 6,
   "metadata": {},
   "outputs": [
    {
     "data": {
      "text/markdown": [
       "# No Messes in the Auditorium\n",
       "---\n",
       "## Use a lid for liquids\n",
       "## Don't eat in the auditorium\n",
       "## Lunch will be at 12 and served in 119C"
      ],
      "text/plain": [
       "<IPython.core.display.Markdown object>"
      ]
     },
     "metadata": {},
     "output_type": "display_data"
    }
   ],
   "source": [
    "# No Messes in the Auditorium\n",
    "---\n",
    "## Use a lid for liquids\n",
    "## Don't eat in the auditorium\n",
    "## Lunch will be at 12 and served in 119C"
   ]
  },
  {
   "cell_type": "code",
   "execution_count": 14,
   "metadata": {},
   "outputs": [
    {
     "data": {
      "text/markdown": [
       "# Thank Yous\n",
       "\n",
       "## [Charlie Bennett](http://charliebennett.org/)\n",
       "\n",
       "## [Seth Nicholas Johnson](http://sethnjohnson.tumblr.com/)\n",
       "\n",
       "## Volunteers\n",
       "\n",
       "## Speakers"
      ],
      "text/plain": [
       "<IPython.core.display.Markdown object>"
      ]
     },
     "metadata": {},
     "output_type": "display_data"
    }
   ],
   "source": [
    "# Thank Yous\n",
    "\n",
    "## [Charlie Bennett](http://charliebennett.org/)\n",
    "\n",
    "## [Seth Nicholas Johnson](http://sethnjohnson.tumblr.com/)\n",
    "\n",
    "## Volunteers\n",
    "\n",
    "## Speakers"
   ]
  },
  {
   "cell_type": "code",
   "execution_count": 9,
   "metadata": {},
   "outputs": [
    {
     "data": {
      "text/markdown": [
       "# Code of Conduct\n",
       "\n",
       "Follow these rules are we are cool.\n",
       "\n",
       "1. Be friendly and patient.\n",
       "2. Be welcoming. \n",
       "3. Be considerate.\n",
       "4. Be respectful. \n",
       "5. Be careful in the words that you choose.\n",
       "6. Moderate your expectations. \n",
       "7. When we disagree, try to understand why. \n",
       "8. A simple apology can go a long way. "
      ],
      "text/plain": [
       "<IPython.core.display.Markdown object>"
      ]
     },
     "metadata": {},
     "output_type": "display_data"
    }
   ],
   "source": [
    "# Code of Conduct\n",
    "\n",
    "Follow these rules are we are cool.\n",
    "\n",
    "1. Be friendly and patient.\n",
    "2. Be welcoming. \n",
    "3. Be considerate.\n",
    "4. Be respectful. \n",
    "5. Be careful in the words that you choose.\n",
    "6. Moderate your expectations. \n",
    "7. When we disagree, try to understand why. \n",
    "8. A simple apology can go a long way. "
   ]
  },
  {
   "cell_type": "code",
   "execution_count": 10,
   "metadata": {
    "slideshow": {
     "slide_type": "skip"
    }
   },
   "outputs": [
    {
     "data": {
      "text/markdown": [
       "# Jupyter Day Atlanta /  Project Jupyter Code of Conduct\n",
       "\n",
       "Project Jupyter is an engaged and respectful community made up of people\n",
       "from all over the world. Your involvement helps us to further our\n",
       "mission and to create an open platform that serves a broad range of\n",
       "communities, from research and education, to journalism, industry and\n",
       "beyond.\n",
       "\n",
       "Naturally, this implies diversity of ideas and perspectives on often complex\n",
       "problems. Disagreement and healthy discussion of conflicting viewpoints is\n",
       "welcome: the best solutions to hard problems rarely come from a single angle.\n",
       "But disagreement is not an excuse for aggression: humans tend to take\n",
       "disagreement personally and easily drift into behavior that ultimately degrades\n",
       "a community. This is particularly acute with online communication across\n",
       "language and cultural gaps, where many cues of human behavior are unavailable.\n",
       "We are outlining here a set of principles and processes to support a\n",
       "healthy community in the face of these challenges.\n",
       "\n",
       "Fundamentally, we are committed to fostering a productive, harassment-free\n",
       "environment for everyone. Rather than considering this code an exhaustive list\n",
       "of things that you can’t do, take it in the spirit it is intended - a guide to\n",
       "make it easier to enrich all of us and the communities in which we participate.\n",
       "\n",
       "Importantly: as a member of our community, *you are also a steward of these\n",
       "values*.  Not all problems need to be resolved via formal processes, and often\n",
       "a quick, friendly but clear word on an online forum or in person can help\n",
       "resolve a misunderstanding and de-escalate things.\n",
       "\n",
       "However, sometimes these informal processes may be inadequate: they fail to\n",
       "work, there is urgency or risk to someone, nobody is intervening publicly and\n",
       "you don't feel comfortable speaking in public, etc.  For these or other\n",
       "reasons, structured follow-up may be necessary and here we provide the means\n",
       "for that: we welcome reports by emailing\n",
       "[*conduct@jupyter.org*](mailto:conduct@jupyter.org) or by filling out [this\n",
       "form](https://goo.gl/forms/sJzOIie3zde9M71T2). For more details please see our\n",
       "Reporting Guidelines (for [online](reporting_online.md) and\n",
       "[in-person](reporting_events.md) contexts).\n",
       "\n",
       "This code applies equally to founders, developers, mentors and new community\n",
       "members, in all spaces managed by Project Jupyter (including IPython). This\n",
       "includes the mailing lists, our GitHub organizations, our chat rooms, in-person\n",
       "events, and any other forums created by the project team. In addition,\n",
       "violations of this code outside these spaces may affect a person's ability to\n",
       "participate within them.\n",
       "\n",
       "By embracing the following principles, guidelines and actions to follow or\n",
       "avoid, you will help us make Jupyter a welcoming and productive community. Feel\n",
       "free to contact the Code of Conduct Committee at\n",
       "[*conduct@jupyter.org*](mailto:conduct@jupyter.org) with any questions.\n",
       "\n",
       "\n",
       "1. **Be friendly and patient**.\n",
       "\n",
       "2. **Be welcoming**. We strive to be a community that welcomes and supports\n",
       "   people of all backgrounds and identities. This includes, but is not limited\n",
       "   to, members of any race, ethnicity, culture, national origin, color,\n",
       "   immigration status, social and economic class, educational level, sex, sexual\n",
       "   orientation, gender identity and expression, age, physical appearance, family\n",
       "   status, political belief, technological or professional choices, academic\n",
       "   discipline, religion, mental ability, and physical ability.\n",
       "\n",
       "3. **Be considerate**. Your work will be used by other people, and you in turn\n",
       "   will depend on the work of others. Any decision you take will affect users\n",
       "   and colleagues, and you should take those consequences into account when\n",
       "   making decisions. Remember that we're a world-wide community. You may be\n",
       "   communicating with someone with a different primary language or cultural\n",
       "   background.\n",
       "\n",
       "4. **Be respectful**. Not all of us will agree all the time, but disagreement is\n",
       "   no excuse for poor behavior or poor manners. We might all experience some\n",
       "   frustration now and then, but we cannot allow that frustration to turn into a\n",
       "   personal attack. It’s important to remember that a community where people\n",
       "   feel uncomfortable or threatened is not a productive one.\n",
       "\n",
       "5. **Be careful in the words that you choose**. Be kind to others. Do not insult\n",
       "   or put down other community members. Harassment and other exclusionary\n",
       "   behavior are not acceptable. This includes, but is not limited to:\n",
       "   * Violent threats or violent language directed against another person\n",
       "   * Discriminatory jokes and language\n",
       "   * Posting sexually explicit or violent material\n",
       "   * Posting (or threatening to post) other people's personally identifying\n",
       "     information (\"doxing\")\n",
       "   * Personal insults, especially those using racist or sexist terms\n",
       "   * Unwelcome sexual attention\n",
       "   * Advocating for, or encouraging, any of the above behavior\n",
       "   * Repeated harassment of others. In general, if someone asks you to stop,\n",
       "     then stop\n",
       "\n",
       "6. **Moderate your expectations**. Please respect that community members choose\n",
       "   how they spend their time in the project. A thoughtful question about your\n",
       "   expectations is preferable to demands for another person's time.\n",
       "\n",
       "7. **When we disagree, try to understand why**. Disagreements, both social and\n",
       "   technical, happen all the time and Jupyter is no exception.  Try to\n",
       "   understand where others are coming from, as seeing a question from their\n",
       "   viewpoint may help find a new path forward.  And don’t forget that it is\n",
       "   human to err: blaming each other doesn’t get us anywhere, while we can learn\n",
       "   from mistakes to find better solutions.\n",
       "\n",
       "8. **A simple apology can go a long way**. It can often de-escalate a situation,\n",
       "   and telling someone that you are sorry is an act of empathy that doesn’t\n",
       "   automatically imply an admission of guilt.\n",
       "\n",
       "\n",
       "## Reporting\n",
       "\n",
       "If you believe someone is violating the code of conduct, please report this in\n",
       "a timely manner. Code of conduct violations reduce the value of the community\n",
       "for everyone and we take them seriously.\n",
       "\n",
       "You can file a report by emailing\n",
       "[*conduct@jupyter.org*](mailto:conduct@jupyter.org) or by filing out\n",
       "[this form](https://goo.gl/forms/sJzOIie3zde9M71T2). For more details or\n",
       "information on reporting in-person at an event, please see our Reporting\n",
       "Guidelines.\n",
       "\n",
       "The online form gives you the option to keep your report anonymous or request\n",
       "that we follow up with you directly. While we cannot follow up on an anonymous\n",
       "report, we will take appropriate action.\n",
       "\n",
       "\n",
       "## Enforcement\n",
       "\n",
       "For information on enforcement, please view the [*Enforcement\n",
       "Manual*](enforcement.md).\n",
       "\n",
       "Original text courtesy of the [Project Jupyter](https://github.com/jupyter/governance/) Projects,\n",
       "modified by the [Atlanta Jupyter User Group](http://atl-jugheads.github.io).  We are grateful to those projects for contributing these materials under open licensing terms for us to easily reuse.\n",
       "\n",
       "All content on this page is licensed under a [*Creative Commons\n",
       "Attribution*](http://creativecommons.org/licenses/by/3.0/) license."
      ],
      "text/plain": [
       "<IPython.core.display.Markdown object>"
      ]
     },
     "metadata": {},
     "output_type": "display_data"
    }
   ],
   "source": [
    "{{'# Jupyter Day Atlanta / '+a.Path('conduct/code_of_conduct.md').Path.read_text()().lstrip('#')}}"
   ]
  },
  {
   "cell_type": "code",
   "execution_count": 15,
   "metadata": {},
   "outputs": [
    {
     "data": {
      "text/markdown": [
       "## Morning Session\n",
       "\n",
       "1. Intro\n",
       "2. Panel\n",
       "3. Talks\n",
       "4. Lunch\n",
       "\n",
       "## Afternoon Session\n",
       "\n",
       "1. Stephen Welch\n",
       "2. Jupyter for beginners breakout\n",
       "3. Talks\n",
       "4. Coffee\n",
       "5. Talks\n",
       "6. Wrap up\n",
       "\n",
       "## Post Event\n",
       "\n",
       "Meet at [Meehan's in Atlantic Station](http://www.meehanspublichouse.com/location/atlantic-station)."
      ],
      "text/plain": [
       "<IPython.core.display.Markdown object>"
      ]
     },
     "metadata": {},
     "output_type": "display_data"
    }
   ],
   "source": [
    "## Morning Session\n",
    "\n",
    "1. Intro\n",
    "2. Panel\n",
    "3. Talks\n",
    "4. Lunch\n",
    "\n",
    "## Afternoon Session\n",
    "\n",
    "1. Stephen Welch\n",
    "2. Jupyter for beginners breakout\n",
    "3. Talks\n",
    "4. Coffee\n",
    "5. Talks\n",
    "6. Wrap up\n",
    "\n",
    "## Post Event\n",
    "\n",
    "Meet at [Meehan's in Atlantic Station](http://www.meehanspublichouse.com/location/atlantic-station)."
   ]
  },
  {
   "cell_type": "markdown",
   "metadata": {
    "slideshow": {
     "slide_type": "slide"
    }
   },
   "source": [
    "# Sponsors\n",
    "\n",
    "\n",
    "[![](http://www.southeastlinuxfest.org/wp-content/uploads/2014/06/ORM_logo_box1_cmyk.jpg)]({{ref['oreilly']}})\n",
    "[![](https://raw.githubusercontent.com/jupyter/design/master/logos/Rectangle%20Logo/rectanglelogo-greytext-orangebody-greymoons/rectanglelogo-greytext-orangebody-greymoons.png)]({{ref['jupyter']}})\n",
    "[![](https://upload.wikimedia.org/wikipedia/en/1/1e/GTRI_Logo_2011.png)]({{ref['gtri']}})"
   ]
  },
  {
   "cell_type": "markdown",
   "metadata": {},
   "source": [
    "# A Word From Our Sponsor\n",
    "\n",
    "![](https://cdn-images-1.medium.com/max/1200/1*eBDo76BnRMrk-OHLzlSd6g.jpeg)"
   ]
  },
  {
   "cell_type": "code",
   "execution_count": null,
   "metadata": {},
   "outputs": [],
   "source": [
    "    if __name__ "
   ]
  }
 ],
 "metadata": {
  "celltoolbar": "Slideshow",
  "kernelspec": {
   "display_name": "p6",
   "language": "python",
   "name": "other-env"
  },
  "language_info": {
   "codemirror_mode": {
    "name": "ipython",
    "version": 3
   },
   "file_extension": ".py",
   "mimetype": "text/x-python",
   "name": "python",
   "nbconvert_exporter": "python",
   "pygments_lexer": "ipython3",
   "version": "3.6.3"
  },
  "toc": {
   "colors": {
    "hover_highlight": "#DAA520",
    "running_highlight": "#FF0000",
    "selected_highlight": "#FFD700"
   },
   "moveMenuLeft": true,
   "nav_menu": {
    "height": "264px",
    "width": "252px"
   },
   "navigate_menu": true,
   "number_sections": true,
   "sideBar": true,
   "threshold": 4,
   "toc_cell": false,
   "toc_section_display": "block",
   "toc_window_display": false,
   "widenNotebook": false
  },
  "varInspector": {
   "cols": {
    "lenName": 16,
    "lenType": 16,
    "lenVar": 40
   },
   "kernels_config": {
    "python": {
     "delete_cmd_postfix": "",
     "delete_cmd_prefix": "del ",
     "library": "var_list.py",
     "varRefreshCmd": "print(var_dic_list())"
    },
    "r": {
     "delete_cmd_postfix": ") ",
     "delete_cmd_prefix": "rm(",
     "library": "var_list.r",
     "varRefreshCmd": "cat(var_dic_list()) "
    }
   },
   "types_to_exclude": [
    "module",
    "function",
    "builtin_function_or_method",
    "instance",
    "_Feature"
   ],
   "window_display": false
  }
 },
 "nbformat": 4,
 "nbformat_minor": 2
}
